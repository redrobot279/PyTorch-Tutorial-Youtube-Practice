{
  "nbformat": 4,
  "nbformat_minor": 0,
  "metadata": {
    "colab": {
      "provenance": [],
      "authorship_tag": "ABX9TyPXrii7va929W7+bRHf6lqq",
      "include_colab_link": true
    },
    "kernelspec": {
      "name": "python3",
      "display_name": "Python 3"
    },
    "language_info": {
      "name": "python"
    }
  },
  "cells": [
    {
      "cell_type": "markdown",
      "metadata": {
        "id": "view-in-github",
        "colab_type": "text"
      },
      "source": [
        "<a href=\"https://colab.research.google.com/github/redrobot279/PyTorch-Tutorial-Youtube-Practice/blob/main/Basic_Neural_Network.ipynb\" target=\"_parent\"><img src=\"https://colab.research.google.com/assets/colab-badge.svg\" alt=\"Open In Colab\"/></a>"
      ]
    },
    {
      "cell_type": "markdown",
      "source": [
        "# Basic Neural Network\n",
        "\n",
        "Create a Basic Neural Network Model - Deep Learning with PyTorch 5\n",
        "https://www.youtube.com/watch?v=JHWqWIoac2I&list=PLCC34OHNcOtpcgR9LEYSdi9r7XIbpkpK1&index=5&ab_channel=Codemy.com"
      ],
      "metadata": {
        "id": "jHNILHKqlxhA"
      }
    },
    {
      "cell_type": "markdown",
      "source": [
        "We need to start by creating code that stars woth the input layer and moves it foward to the hidden layers\n"
      ],
      "metadata": {
        "id": "kjsZcstymW-V"
      }
    },
    {
      "cell_type": "code",
      "source": [],
      "metadata": {
        "id": "-UFJjvIImpNJ"
      },
      "execution_count": null,
      "outputs": []
    }
  ]
}